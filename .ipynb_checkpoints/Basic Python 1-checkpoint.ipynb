{
 "cells": [
  {
   "cell_type": "markdown",
   "metadata": {},
   "source": [
    "# Basic Python 1\n",
    "The number of birds banded at a series of sampling sites has been counted by your field crew and entered into the following list. The first item in each sublist is an alphanumeric code for the site and the second value is the number of birds banded. Cut and paste the list into your assignment and then answer the following questions by printing them to the screen.\n",
    "\n",
    "data = [['A1', 28], ['A2', 32], ['A3', 1], ['A4', 0],\n",
    "        ['A5', 10], ['A6', 22], ['A7', 30], ['A8', 19],\n",
    "\t\t['B1', 145], ['B2', 27], ['B3', 36], ['B4', 25],\n",
    "\t\t['B5', 9], ['B6', 38], ['B7', 21], ['B8', 12],\n",
    "\t\t['C1', 122], ['C2', 87], ['C3', 36], ['C4', 3],\n",
    "\t\t['D1', 0], ['D2', 5], ['D3', 55], ['D4', 62],\n",
    "\t\t['D5', 98], ['D6', 32]]\n",
    "        \n",
    "1. How many sites are there?\n",
    "2. How many birds were counted at the 7th site?\n",
    "3. How many birds were counted at the last site?\n",
    "4. What is the total number of birds counted across all sites?\n",
    "5. What is the average number of birds seen on a site?\n",
    "6. What is the total number of birds counted on sites with codes beginning with C? (don’t just identify this sites by eye, in the real world there could be hundreds or thousands of sites)"
   ]
  },
  {
   "cell_type": "code",
   "execution_count": 1,
   "metadata": {},
   "outputs": [],
   "source": [
    "data = [['A1', 28], ['A2', 32], ['A3', 1], ['A4', 0],\n",
    "        ['A5', 10], ['A6', 22], ['A7', 30], ['A8', 19],\n",
    "\t\t['B1', 145], ['B2', 27], ['B3', 36], ['B4', 25],\n",
    "\t\t['B5', 9], ['B6', 38], ['B7', 21], ['B8', 12],\n",
    "\t\t['C1', 122], ['C2', 87], ['C3', 36], ['C4', 3],\n",
    "\t\t['D1', 0], ['D2', 5], ['D3', 55], ['D4', 62],\n",
    "\t\t['D5', 98], ['D6', 32]]"
   ]
  },
  {
   "cell_type": "code",
   "execution_count": 2,
   "metadata": {},
   "outputs": [],
   "source": [
    "import pandas as pd\n",
    "pd_data = pd.DataFrame(data)"
   ]
  },
  {
   "cell_type": "code",
   "execution_count": 3,
   "metadata": {},
   "outputs": [],
   "source": [
    "pd_data.columns = ['site', 'bird']"
   ]
  },
  {
   "cell_type": "code",
   "execution_count": 4,
   "metadata": {},
   "outputs": [
    {
     "data": {
      "text/plain": [
       "26"
      ]
     },
     "execution_count": 4,
     "metadata": {},
     "output_type": "execute_result"
    }
   ],
   "source": [
    "#How many sites are there?\n",
    "pd_data.site.count() "
   ]
  },
  {
   "cell_type": "code",
   "execution_count": 5,
   "metadata": {},
   "outputs": [
    {
     "data": {
      "text/plain": [
       "19"
      ]
     },
     "execution_count": 5,
     "metadata": {},
     "output_type": "execute_result"
    }
   ],
   "source": [
    "#How many birds were counted at the 7th site?\n",
    "pd_data.iloc[7][1]"
   ]
  },
  {
   "cell_type": "code",
   "execution_count": 6,
   "metadata": {},
   "outputs": [
    {
     "data": {
      "text/plain": [
       "955"
      ]
     },
     "execution_count": 6,
     "metadata": {},
     "output_type": "execute_result"
    }
   ],
   "source": [
    "#How many birds were counted at the last site?\n",
    "pd_data.bird.sum()"
   ]
  },
  {
   "cell_type": "code",
   "execution_count": 7,
   "metadata": {},
   "outputs": [
    {
     "data": {
      "text/plain": [
       "36"
      ]
     },
     "execution_count": 7,
     "metadata": {},
     "output_type": "execute_result"
    }
   ],
   "source": [
    "#What is the average number of birds seen on a site?\n",
    "int(pd_data.bird.mean())"
   ]
  },
  {
   "cell_type": "code",
   "execution_count": 8,
   "metadata": {},
   "outputs": [
    {
     "data": {
      "text/plain": [
       "248"
      ]
     },
     "execution_count": 8,
     "metadata": {},
     "output_type": "execute_result"
    }
   ],
   "source": [
    "#What is the total number of birds counted on sites with codes beginning with C? \n",
    "pd_data.bird[pd_data.site.str.startswith('C')].sum()"
   ]
  }
 ],
 "metadata": {
  "kernelspec": {
   "display_name": "Python 3",
   "language": "python",
   "name": "python3"
  },
  "language_info": {
   "codemirror_mode": {
    "name": "ipython",
    "version": 3
   },
   "file_extension": ".py",
   "mimetype": "text/x-python",
   "name": "python",
   "nbconvert_exporter": "python",
   "pygments_lexer": "ipython3",
   "version": "3.7.6"
  }
 },
 "nbformat": 4,
 "nbformat_minor": 4
}
